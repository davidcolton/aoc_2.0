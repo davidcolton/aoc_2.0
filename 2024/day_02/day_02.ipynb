{
 "cells": [
  {
   "cell_type": "code",
   "execution_count": 30,
   "metadata": {},
   "outputs": [],
   "source": [
    "# Use Jupyter Black for cell formatting\n",
    "import jupyter_black\n",
    "import polars as pl\n",
    "\n",
    "jupyter_black.load()"
   ]
  },
  {
   "cell_type": "code",
   "execution_count": 31,
   "metadata": {},
   "outputs": [],
   "source": [
    "def safe(row: dict) -> bool:\n",
    "    values = row.values()\n",
    "    values = [x for x in values if x != None]\n",
    "    return check_values(values)\n",
    "\n",
    "\n",
    "def dampener_safe(row: dict) -> bool:\n",
    "    values = row.values()\n",
    "    values = [x for x in values if x != None]\n",
    "    for n in range(len(values)):\n",
    "        new_values = values[:n] + values[n + 1 :]\n",
    "        if check_values(new_values):\n",
    "            return True\n",
    "    return False\n",
    "\n",
    "\n",
    "def check_values(values):\n",
    "    asc_comp = zip(values, values[1:])\n",
    "    desc_comp = zip(values, values[1:])\n",
    "    ascending = all((i < j) and (1 <= j - i <= 3) for i, j in asc_comp)\n",
    "    descending = all((i > j) and (1 <= i - j <= 3) for i, j in desc_comp)\n",
    "    return ascending or descending"
   ]
  },
  {
   "cell_type": "code",
   "execution_count": null,
   "metadata": {},
   "outputs": [
    {
     "name": "stdout",
     "output_type": "stream",
     "text": [
      "9.71 ms ± 375 μs per loop (mean ± std. dev. of 7 runs, 100 loops each)\n"
     ]
    }
   ],
   "source": [
    "schema = {\n",
    "    \"col_1\": pl.Int32,\n",
    "    \"col_2\": pl.Int32,\n",
    "    \"col_3\": pl.Int32,\n",
    "    \"col_4\": pl.Int32,\n",
    "    \"col_5\": pl.Int32,\n",
    "    \"col_6\": pl.Int32,\n",
    "    \"col_7\": pl.Int32,\n",
    "    \"col_8\": pl.Int32,\n",
    "}\n",
    "\n",
    "# Read Data\n",
    "df = pl.read_csv(\"input.txt\", separator=\" \", schema=schema, has_header=False)\n",
    "\n",
    "# Part 1\n",
    "df_1 = df.with_columns(\n",
    "    pl.struct(pl.all()).map_elements(safe, return_dtype=pl.Boolean).alias(\"safe\")\n",
    ")\n",
    "\n",
    "# Part 2\n",
    "df_2 = df_1.filter(pl.col(\"safe\").eq(False)).with_columns(\n",
    "    pl.struct(pl.all().exclude(\"safe\"))\n",
    "    .map_elements(dampener_safe, return_dtype=pl.Boolean)\n",
    "    .alias(\"dampener_safe\")\n",
    ")"
   ]
  },
  {
   "cell_type": "code",
   "execution_count": null,
   "metadata": {},
   "outputs": [
    {
     "data": {
      "text/html": [
       "<div><style>\n",
       ".dataframe > thead > tr,\n",
       ".dataframe > tbody > tr {\n",
       "  text-align: right;\n",
       "  white-space: pre-wrap;\n",
       "}\n",
       "</style>\n",
       "<small>shape: (1, 1)</small><table border=\"1\" class=\"dataframe\"><thead><tr><th>safe</th></tr><tr><td>u32</td></tr></thead><tbody><tr><td>432</td></tr></tbody></table></div>"
      ],
      "text/plain": [
       "shape: (1, 1)\n",
       "┌──────┐\n",
       "│ safe │\n",
       "│ ---  │\n",
       "│ u32  │\n",
       "╞══════╡\n",
       "│ 432  │\n",
       "└──────┘"
      ]
     },
     "execution_count": 27,
     "metadata": {},
     "output_type": "execute_result"
    }
   ],
   "source": [
    "# Part 1\n",
    "df_1.select(pl.col(\"safe\")).sum()"
   ]
  },
  {
   "cell_type": "code",
   "execution_count": null,
   "metadata": {},
   "outputs": [
    {
     "data": {
      "text/html": [
       "<div><style>\n",
       ".dataframe > thead > tr,\n",
       ".dataframe > tbody > tr {\n",
       "  text-align: right;\n",
       "  white-space: pre-wrap;\n",
       "}\n",
       "</style>\n",
       "<small>shape: (1, 1)</small><table border=\"1\" class=\"dataframe\"><thead><tr><th>dampener_safe</th></tr><tr><td>u32</td></tr></thead><tbody><tr><td>56</td></tr></tbody></table></div>"
      ],
      "text/plain": [
       "shape: (1, 1)\n",
       "┌───────────────┐\n",
       "│ dampener_safe │\n",
       "│ ---           │\n",
       "│ u32           │\n",
       "╞═══════════════╡\n",
       "│ 56            │\n",
       "└───────────────┘"
      ]
     },
     "execution_count": 29,
     "metadata": {},
     "output_type": "execute_result"
    }
   ],
   "source": [
    "# Part 2\n",
    "# These are additional Dampener Safe\n",
    "df_2.select(pl.col(\"dampener_safe\")).sum()"
   ]
  },
  {
   "cell_type": "code",
   "execution_count": null,
   "metadata": {},
   "outputs": [],
   "source": []
  }
 ],
 "metadata": {
  "kernelspec": {
   "display_name": ".venv",
   "language": "python",
   "name": "python3"
  },
  "language_info": {
   "codemirror_mode": {
    "name": "ipython",
    "version": 3
   },
   "file_extension": ".py",
   "mimetype": "text/x-python",
   "name": "python",
   "nbconvert_exporter": "python",
   "pygments_lexer": "ipython3",
   "version": "3.12.7"
  }
 },
 "nbformat": 4,
 "nbformat_minor": 2
}
