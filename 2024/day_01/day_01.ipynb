{
 "cells": [
  {
   "cell_type": "code",
   "execution_count": null,
   "metadata": {},
   "outputs": [],
   "source": [
    "# Use Jupyter Black for cell formatting\n",
    "import jupyter_black\n",
    "\n",
    "jupyter_black.load()"
   ]
  },
  {
   "cell_type": "code",
   "execution_count": null,
   "metadata": {},
   "outputs": [],
   "source": [
    "import polars as pl"
   ]
  },
  {
   "cell_type": "code",
   "execution_count": null,
   "metadata": {},
   "outputs": [],
   "source": [
    "df = pl.read_csv(\"input.txt\", has_header=False)\n",
    "\n",
    "df = (\n",
    "    df.with_columns(\n",
    "        pl.col(\"column_1\")\n",
    "        .str.split_exact(\"   \", 1)\n",
    "        .struct.rename_fields([\"first_part\", \"second_part\"])\n",
    "        .alias(\"fields\")\n",
    "    )\n",
    "    .unnest(\"fields\")\n",
    "    .with_columns(\n",
    "        pl.col(\"first_part\")\n",
    "        .cast(pl.Int64, strict=False)\n",
    "        .alias(\"first_part_int\")\n",
    "        .sort(),\n",
    "        pl.col(\"second_part\")\n",
    "        .cast(pl.Int64, strict=False)\n",
    "        .alias(\"second_part_int\")\n",
    "        .sort(),\n",
    "    )\n",
    "    .with_columns(\n",
    "        (pl.col(\"first_part_int\") - pl.col(\"second_part_int\")).abs().alias(\"part_01\")\n",
    "    )\n",
    ")"
   ]
  },
  {
   "cell_type": "code",
   "execution_count": null,
   "metadata": {},
   "outputs": [],
   "source": [
    "# Answer to Pat 01\n",
    "df.select(\"part_01\").sum()"
   ]
  },
  {
   "cell_type": "code",
   "execution_count": null,
   "metadata": {},
   "outputs": [],
   "source": [
    "df_count = df[\"second_part_int\"].value_counts()\n",
    "\n",
    "df = (\n",
    "    df.join(\n",
    "        df_count,\n",
    "        left_on=\"first_part_int\",\n",
    "        right_on=\"second_part_int\",\n",
    "        how=\"left\",\n",
    "    )\n",
    "    .fill_null(0)\n",
    "    .with_columns((pl.col(\"first_part_int\") * pl.col(\"count\")).alias(\"part_02\"))\n",
    ")"
   ]
  },
  {
   "cell_type": "code",
   "execution_count": null,
   "metadata": {},
   "outputs": [],
   "source": [
    "# Answer to Pat 02\n",
    "df.select(\"part_02\").sum()"
   ]
  },
  {
   "cell_type": "code",
   "execution_count": null,
   "metadata": {},
   "outputs": [],
   "source": []
  }
 ],
 "metadata": {
  "kernelspec": {
   "display_name": ".venv",
   "language": "python",
   "name": "python3"
  },
  "language_info": {
   "codemirror_mode": {
    "name": "ipython",
    "version": 3
   },
   "file_extension": ".py",
   "mimetype": "text/x-python",
   "name": "python",
   "nbconvert_exporter": "python",
   "pygments_lexer": "ipython3",
   "version": "3.12.7"
  }
 },
 "nbformat": 4,
 "nbformat_minor": 2
}
