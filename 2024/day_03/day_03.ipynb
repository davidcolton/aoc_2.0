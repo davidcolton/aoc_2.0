{
 "cells": [
  {
   "cell_type": "code",
   "execution_count": null,
   "metadata": {},
   "outputs": [],
   "source": [
    "import re\n",
    "\n",
    "with open(\"input.txt\", \"r\") as file:\n",
    "    data = file.read()\n"
   ]
  },
  {
   "cell_type": "code",
   "execution_count": null,
   "metadata": {},
   "outputs": [],
   "source": [
    "# Part 1\n",
    "def calculate_sum(data):\n",
    "    pattern_part_01 = r\"mul\\((\\d+),(\\d+)\\)\"\n",
    "    mul_matches = re.findall(pattern_part_01, data)\n",
    "\n",
    "    sum = 0\n",
    "    for match in mul_matches:\n",
    "        sum = sum + int(match[0]) * int(match[1])\n",
    "\n",
    "    return sum\n",
    "\n",
    "# Part 01 Answer\n",
    "calculate_sum(data)\n",
    "\n",
    "# Part 2\n",
    "# Remove newline characters from data\n",
    "# For simplicity add do() at the start and \"\\n\" at the end\n",
    "# Break the data into do's and don'ts\n",
    "# Drop the don'ts\n",
    "# Rejoin text and calculate again\n",
    "\n",
    "tmp_data = data.replace(\"\\n\", \"\")\n",
    "tmp_data = \"do()\" + tmp_data + \"\\n\"\n",
    "tmp_data = tmp_data.replace(\"don't()\", \"\\ndon't()\")\n",
    "tmp_data = tmp_data.replace(\"do()\", \"\\ndo()\")\n",
    "tmp_data = re.sub(r\"^don\\'t\\(\\).*\\n\", \"\", tmp_data, flags=re.M)\n",
    "\n",
    "# Rejoin\n",
    "new_data = re.sub(r'\\s+', '', tmp_data)\n",
    "\n",
    "# Part 02 Answer\n",
    "calculate_sum(new_data)"
   ]
  },
  {
   "cell_type": "code",
   "execution_count": null,
   "metadata": {},
   "outputs": [],
   "source": []
  }
 ],
 "metadata": {
  "kernelspec": {
   "display_name": ".venv",
   "language": "python",
   "name": "python3"
  },
  "language_info": {
   "codemirror_mode": {
    "name": "ipython",
    "version": 3
   },
   "file_extension": ".py",
   "mimetype": "text/x-python",
   "name": "python",
   "nbconvert_exporter": "python",
   "pygments_lexer": "ipython3",
   "version": "3.12.7"
  }
 },
 "nbformat": 4,
 "nbformat_minor": 2
}
